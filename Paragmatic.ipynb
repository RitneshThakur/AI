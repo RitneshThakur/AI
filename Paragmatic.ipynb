{
  "nbformat": 4,
  "nbformat_minor": 0,
  "metadata": {
    "colab": {
      "provenance": [],
      "authorship_tag": "ABX9TyOnMUPigDvAx4nyKnkr+3zG",
      "include_colab_link": true
    },
    "kernelspec": {
      "name": "python3",
      "display_name": "Python 3"
    },
    "language_info": {
      "name": "python"
    }
  },
  "cells": [
    {
      "cell_type": "markdown",
      "metadata": {
        "id": "view-in-github",
        "colab_type": "text"
      },
      "source": [
        "<a href=\"https://colab.research.google.com/github/RitneshThakur/AI/blob/main/Paragmatic.ipynb\" target=\"_parent\"><img src=\"https://colab.research.google.com/assets/colab-badge.svg\" alt=\"Open In Colab\"/></a>"
      ]
    },
    {
      "cell_type": "code",
      "execution_count": 2,
      "metadata": {
        "colab": {
          "base_uri": "https://localhost:8080/"
        },
        "id": "9jtDOq52z8yJ",
        "outputId": "442cca8a-5c33-4584-8284-bbda5d34a0f2"
      },
      "outputs": [
        {
          "output_type": "stream",
          "name": "stdout",
          "text": [
            "Sentence: 'I  really like the movie'\n",
            "Sentiment: Sentiment(polarity=0.2, subjectivity=0.2)\n",
            "\n",
            "Sentence: 'This is the worst circus I have ever seen.'\n",
            "Sentiment: Sentiment(polarity=-1.0, subjectivity=1.0)\n",
            "\n",
            "Sentence: 'The service  was okay, but the food was terrible.'\n",
            "Sentiment: Sentiment(polarity=-0.25, subjectivity=0.75)\n",
            "\n"
          ]
        }
      ],
      "source": [
        "from textblob import TextBlob\n",
        "\n",
        "# Example sentences to analyze pragmatically\n",
        "sentences = [\n",
        "    \"I  really like the movie\",\n",
        "    \"This is the worst circus I have ever seen.\",\n",
        "    \"The service  was okay, but the food was terrible.\"\n",
        "]\n",
        "\n",
        "# Analyze the pragmatic sentiment of each sentence\n",
        "for sentence in sentences:\n",
        "    blob = TextBlob(sentence)\n",
        "    sentiment = blob.sentiment\n",
        "    print(f\"Sentence: '{sentence}'\")\n",
        "    print(f\"Sentiment: {sentiment}\\n\")"
      ]
    }
  ]
}