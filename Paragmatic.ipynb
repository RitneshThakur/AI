{
  "nbformat": 4,
  "nbformat_minor": 0,
  "metadata": {
    "colab": {
      "provenance": [],
      "authorship_tag": "ABX9TyMXBBbnCAIIvZ7JZb5P/Y21",
      "include_colab_link": true
    },
    "kernelspec": {
      "name": "python3",
      "display_name": "Python 3"
    },
    "language_info": {
      "name": "python"
    }
  },
  "cells": [
    {
      "cell_type": "markdown",
      "metadata": {
        "id": "view-in-github",
        "colab_type": "text"
      },
      "source": [
        "<a href=\"https://colab.research.google.com/github/RitneshThakur/AI/blob/main/Paragmatic.ipynb\" target=\"_parent\"><img src=\"https://colab.research.google.com/assets/colab-badge.svg\" alt=\"Open In Colab\"/></a>"
      ]
    },
    {
      "cell_type": "code",
      "execution_count": 1,
      "metadata": {
        "colab": {
          "base_uri": "https://localhost:8080/"
        },
        "id": "9jtDOq52z8yJ",
        "outputId": "45c46c58-9704-4b4a-d8c6-8933446aaa21"
      },
      "outputs": [
        {
          "output_type": "stream",
          "name": "stdout",
          "text": [
            "Sentence: 'I am really happy with the results!'\n",
            "Sentiment: Sentiment(polarity=1.0, subjectivity=1.0)\n",
            "\n",
            "Sentence: 'This is the worst movie I have ever seen.'\n",
            "Sentiment: Sentiment(polarity=-1.0, subjectivity=1.0)\n",
            "\n",
            "Sentence: 'The food was okay, but the service was terrible.'\n",
            "Sentiment: Sentiment(polarity=-0.25, subjectivity=0.75)\n",
            "\n"
          ]
        }
      ],
      "source": [
        "from textblob import TextBlob\n",
        "\n",
        "# Example sentences to analyze pragmatically\n",
        "sentences = [\n",
        "    \"I am really happy with the results!\",\n",
        "    \"This is the worst movie I have ever seen.\",\n",
        "    \"The food was okay, but the service was terrible.\"\n",
        "]\n",
        "\n",
        "# Analyze the pragmatic sentiment of each sentence\n",
        "for sentence in sentences:\n",
        "    blob = TextBlob(sentence)\n",
        "    sentiment = blob.sentiment\n",
        "    print(f\"Sentence: '{sentence}'\")\n",
        "    print(f\"Sentiment: {sentiment}\\n\")"
      ]
    }
  ]
}