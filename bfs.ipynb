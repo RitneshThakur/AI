{
  "nbformat": 4,
  "nbformat_minor": 0,
  "metadata": {
    "colab": {
      "provenance": [],
      "authorship_tag": "ABX9TyOPRqwSfxn4KRZsHkELiv/a",
      "include_colab_link": true
    },
    "kernelspec": {
      "name": "python3",
      "display_name": "Python 3"
    },
    "language_info": {
      "name": "python"
    }
  },
  "cells": [
    {
      "cell_type": "markdown",
      "metadata": {
        "id": "view-in-github",
        "colab_type": "text"
      },
      "source": [
        "<a href=\"https://colab.research.google.com/github/RitneshThakur/AI/blob/main/bfs.ipynb\" target=\"_parent\"><img src=\"https://colab.research.google.com/assets/colab-badge.svg\" alt=\"Open In Colab\"/></a>"
      ]
    },
    {
      "cell_type": "code",
      "execution_count": 1,
      "metadata": {
        "colab": {
          "base_uri": "https://localhost:8080/"
        },
        "id": "yDbTARgd4Y4m",
        "outputId": "3e0211bb-11c7-4ecd-e90d-2cd2b89afeda"
      },
      "outputs": [
        {
          "output_type": "stream",
          "name": "stdout",
          "text": [
            "Following is the Breadth-First Search\n",
            "A->B->C->E->F->D->H->IG->"
          ]
        }
      ],
      "source": [
        "graph = {\n",
        "    'A': ['B', 'C'],\n",
        "    'B': ['E', 'F'],\n",
        "    'C': ['D'],\n",
        "    'D': ['G'],\n",
        "    'E': ['H'],\n",
        "    'F': ['I'],\n",
        "    'G': [],\n",
        "    'H': [],\n",
        "    'I': []\n",
        "}\n",
        "visited = []  # List for visited nodes.\n",
        "queue = []  # Initialize a queue\n",
        "\n",
        "def bfs(visited, graph, node):  # function for BFS\n",
        "    visited.append(node)\n",
        "    queue.append(node)\n",
        "    while queue:  # Creating loop to visit each node\n",
        "        m = queue.pop(0)\n",
        "        # print '->' after each node except the last one\n",
        "        print(m, end='->' if m != 'I' else '')\n",
        "        for neighbour in graph[m]:\n",
        "            if neighbour not in visited:\n",
        "                visited.append(neighbour)\n",
        "                queue.append(neighbour)\n",
        "\n",
        "print(\"Following is the Breadth-First Search\")\n",
        "bfs(visited, graph, 'A')"
      ]
    }
  ]
}