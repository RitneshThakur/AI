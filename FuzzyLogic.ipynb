{
  "nbformat": 4,
  "nbformat_minor": 0,
  "metadata": {
    "colab": {
      "provenance": [],
      "authorship_tag": "ABX9TyN1ooprvJTyYldGe1utpzg9",
      "include_colab_link": true
    },
    "kernelspec": {
      "name": "python3",
      "display_name": "Python 3"
    },
    "language_info": {
      "name": "python"
    }
  },
  "cells": [
    {
      "cell_type": "markdown",
      "metadata": {
        "id": "view-in-github",
        "colab_type": "text"
      },
      "source": [
        "<a href=\"https://colab.research.google.com/github/RitneshThakur/AI/blob/main/FuzzyLogic.ipynb\" target=\"_parent\"><img src=\"https://colab.research.google.com/assets/colab-badge.svg\" alt=\"Open In Colab\"/></a>"
      ]
    },
    {
      "cell_type": "markdown",
      "source": [
        "Fuzzy Logic to check the strength of wall"
      ],
      "metadata": {
        "id": "LRIAKv7eOqC5"
      }
    },
    {
      "cell_type": "code",
      "source": [
        "pip install scikit-fuzzy\n"
      ],
      "metadata": {
        "colab": {
          "base_uri": "https://localhost:8080/"
        },
        "id": "L_3p5uFKPETU",
        "outputId": "156b93d0-919b-44ad-928e-68c4ebfac1c0"
      },
      "execution_count": null,
      "outputs": [
        {
          "output_type": "stream",
          "name": "stdout",
          "text": [
            "Requirement already satisfied: scikit-fuzzy in /usr/local/lib/python3.10/dist-packages (0.5.0)\n"
          ]
        }
      ]
    },
    {
      "cell_type": "code",
      "execution_count": null,
      "metadata": {
        "colab": {
          "base_uri": "https://localhost:8080/"
        },
        "id": "mQ12xvA1Oi4X",
        "outputId": "e761a95e-fccc-4b56-fbf8-dfc014d19018"
      },
      "outputs": [
        {
          "output_type": "stream",
          "name": "stdout",
          "text": [
            "Predicted Wall Strength: 77.97619047619047\n"
          ]
        }
      ],
      "source": [
        "import numpy as np\n",
        "import skfuzzy as fuzz\n",
        "from skfuzzy import control as ctrl\n",
        "\n",
        "material_quality = ctrl.Antecedent(np.arange(0, 11, 1), 'material_quality')\n",
        "thickness = ctrl.Antecedent(np.arange(0, 51, 1), 'thickness')\n",
        "age = ctrl.Antecedent(np.arange(0, 101, 1), 'age')\n",
        "\n",
        "strength = ctrl.Consequent(np.arange(0, 101, 1), 'strength')\n",
        "\n",
        "material_quality['poor'] = fuzz.trimf(material_quality.universe, [0, 0, 5])\n",
        "material_quality['average'] = fuzz.trimf(material_quality.universe, [3, 5, 7])\n",
        "material_quality['good'] = fuzz.trimf(material_quality.universe, [5, 10, 10])\n",
        "\n",
        "thickness['thin'] = fuzz.trimf(thickness.universe, [0, 0, 10])\n",
        "thickness['medium'] = fuzz.trimf(thickness.universe, [10, 20, 30])\n",
        "thickness['thick'] = fuzz.trimf(thickness.universe, [30, 50, 50])\n",
        "\n",
        "age['new'] = fuzz.trimf(age.universe, [0, 0, 20])\n",
        "age['average'] = fuzz.trimf(age.universe, [20, 50, 80])\n",
        "age['old'] = fuzz.trimf(age.universe, [80, 100, 100])\n",
        "\n",
        "strength['weak'] = fuzz.trimf(strength.universe, [0, 0, 50])\n",
        "strength['moderate'] = fuzz.trimf(strength.universe, [30, 50, 70])\n",
        "strength['strong'] = fuzz.trimf(strength.universe, [50, 100, 100])\n",
        "\n",
        "rule1 = ctrl.Rule(material_quality['good'] & thickness['thick'] & age['new'], strength['strong'])\n",
        "rule2 = ctrl.Rule(material_quality['average'] & thickness['medium'] & age['average'], strength['moderate'])\n",
        "rule3 = ctrl.Rule(material_quality['poor'] & thickness['thin'] & age['old'], strength['weak'])\n",
        "\n",
        "strength_ctrl = ctrl.ControlSystem([rule1, rule2, rule3])\n",
        "strength_simulation = ctrl.ControlSystemSimulation(strength_ctrl)\n",
        "\n",
        "strength_simulation.input['material_quality'] = 8\n",
        "strength_simulation.input['thickness'] = 35\n",
        "strength_simulation.input['age'] = 10\n",
        "\n",
        "strength_simulation.compute()\n",
        "\n",
        "print(f\"Predicted Wall Strength: {strength_simulation.output['strength']}\")\n"
      ]
    },
    {
      "cell_type": "code",
      "source": [],
      "metadata": {
        "id": "30iY4o8XPXrX"
      },
      "execution_count": null,
      "outputs": []
    }
  ]
}