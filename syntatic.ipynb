{
  "nbformat": 4,
  "nbformat_minor": 0,
  "metadata": {
    "colab": {
      "provenance": [],
      "authorship_tag": "ABX9TyOq+MEWT3xx5fRhaupAawqI",
      "include_colab_link": true
    },
    "kernelspec": {
      "name": "python3",
      "display_name": "Python 3"
    },
    "language_info": {
      "name": "python"
    }
  },
  "cells": [
    {
      "cell_type": "markdown",
      "metadata": {
        "id": "view-in-github",
        "colab_type": "text"
      },
      "source": [
        "<a href=\"https://colab.research.google.com/github/RitneshThakur/AI/blob/main/syntatic.ipynb\" target=\"_parent\"><img src=\"https://colab.research.google.com/assets/colab-badge.svg\" alt=\"Open In Colab\"/></a>"
      ]
    },
    {
      "cell_type": "code",
      "execution_count": null,
      "metadata": {
        "id": "cWWZywLV7bMq"
      },
      "outputs": [],
      "source": [
        "import nltk\n",
        "from nltk import CFG\n",
        "\n",
        "\n",
        "# Define a simple grammar for sentence parsing\n",
        "grammar = CFG.fromstring(\"\"\"\n",
        "  S -> NP VP\n",
        "  NP -> Det N | Det N PP\n",
        "  VP -> V NP | VP PP\n",
        "  PP -> P NP\n",
        "  Det -> 'the' | 'a'\n",
        "  N -> 'cat' | 'dog' | 'park'\n",
        "  V -> 'saw' | 'chased'\n",
        "  P -> 'in' | 'with'\n",
        "\"\"\")\n",
        "\n",
        "\n",
        "# Define the parser with the given grammar\n",
        "parser = nltk.ChartParser(grammar)\n",
        "\n",
        "\n",
        "# Example sentence to parse\n",
        "sentence = \"the dog saw a cat in the park\".split()\n",
        "\n",
        "\n",
        "# Perform parsing\n",
        "for tree in parser.parse(sentence):\n",
        "    print(tree)\n",
        "    tree.draw()\n",
        " # This will display the parse tree visually (works locally)"
      ]
    }
  ]
}