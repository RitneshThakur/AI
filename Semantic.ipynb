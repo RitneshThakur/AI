{
  "nbformat": 4,
  "nbformat_minor": 0,
  "metadata": {
    "colab": {
      "provenance": [],
      "authorship_tag": "ABX9TyPERJ/rrtAfCpS8cT5sXt1X",
      "include_colab_link": true
    },
    "kernelspec": {
      "name": "python3",
      "display_name": "Python 3"
    },
    "language_info": {
      "name": "python"
    }
  },
  "cells": [
    {
      "cell_type": "markdown",
      "metadata": {
        "id": "view-in-github",
        "colab_type": "text"
      },
      "source": [
        "<a href=\"https://colab.research.google.com/github/RitneshThakur/AI/blob/main/Semantic.ipynb\" target=\"_parent\"><img src=\"https://colab.research.google.com/assets/colab-badge.svg\" alt=\"Open In Colab\"/></a>"
      ]
    },
    {
      "cell_type": "code",
      "execution_count": 2,
      "metadata": {
        "colab": {
          "base_uri": "https://localhost:8080/"
        },
        "id": "0Wt86cRa0NrN",
        "outputId": "3430a2f2-c59e-4940-e3da-c5ef0e6e8482"
      },
      "outputs": [
        {
          "output_type": "stream",
          "name": "stdout",
          "text": [
            "Synsets of the word 'tiger':\n",
            "Synset('tiger.n.01')\n",
            "Synset('tiger.n.02')\n",
            "\n",
            "Definition of 'tiger': a fierce or audacious person\n",
            "Example sentence: [\"he's a tiger on the tennis court\", 'it aroused the tiger in me']\n",
            "\n",
            "Synonyms of 'tiger': ['tiger']\n",
            "\n",
            "Hypernyms of 'tiger' (broader categories): [Synset('person.n.01')]\n"
          ]
        },
        {
          "output_type": "stream",
          "name": "stderr",
          "text": [
            "[nltk_data] Downloading package wordnet to /root/nltk_data...\n",
            "[nltk_data]   Package wordnet is already up-to-date!\n",
            "[nltk_data] Downloading package omw-1.4 to /root/nltk_data...\n",
            "[nltk_data]   Package omw-1.4 is already up-to-date!\n"
          ]
        }
      ],
      "source": [
        "import nltk\n",
        "from nltk.corpus import wordnet as wn\n",
        "\n",
        "# Download WordNet data\n",
        "nltk.download('wordnet')\n",
        "nltk.download('omw-1.4')  # Optional: For additional languages\n",
        "\n",
        "# Word to analyze\n",
        "word = \"tiger\"\n",
        "\n",
        "# Find all the synsets (senses) of the word\n",
        "synsets = wn.synsets(word)\n",
        "print(f\"Synsets of the word '{word}':\")\n",
        "for synset in synsets:\n",
        "    print(synset)\n",
        "\n",
        "synset = synsets[0]\n",
        "print(f\"\\nDefinition of '{word}': {synset.definition()}\")\n",
        "print(f\"Example sentence: {synset.examples()}\")\n",
        "\n",
        "# Find synonyms (lemmas)\n",
        "synonyms = synset.lemma_names()\n",
        "print(f\"\\nSynonyms of '{word}': {synonyms}\")\n",
        "\n",
        "# Find hypernyms (broader category)\n",
        "hypernyms = synset.hypernyms()\n",
        "print(f\"\\nHypernyms of '{word}' (broader categories): {hypernyms}\")"
      ]
    }
  ]
}