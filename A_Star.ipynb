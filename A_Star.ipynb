{
  "nbformat": 4,
  "nbformat_minor": 0,
  "metadata": {
    "colab": {
      "provenance": [],
      "authorship_tag": "ABX9TyNFaUNhCrQEJT6WRrtTgxAV",
      "include_colab_link": true
    },
    "kernelspec": {
      "name": "python3",
      "display_name": "Python 3"
    },
    "language_info": {
      "name": "python"
    }
  },
  "cells": [
    {
      "cell_type": "markdown",
      "metadata": {
        "id": "view-in-github",
        "colab_type": "text"
      },
      "source": [
        "<a href=\"https://colab.research.google.com/github/RitneshThakur/AI/blob/main/A_Star.ipynb\" target=\"_parent\"><img src=\"https://colab.research.google.com/assets/colab-badge.svg\" alt=\"Open In Colab\"/></a>"
      ]
    },
    {
      "cell_type": "code",
      "execution_count": null,
      "metadata": {
        "id": "f6XxFM8J0ziW"
      },
      "outputs": [],
      "source": [
        "adj_list = {\n",
        "    'x': [('y', 4), ('z', 7)],\n",
        "    'y': [('p', 1), ('q', 3)],\n",
        "    'z': [('q', 2), ('r', 4)],\n",
        "    'p': [('r', 5)],\n",
        "    'q': [('r', 6), ('t', 2)],\n",
        "    'r': [('t', 1)],\n",
        "    't': []\n",
        "}\n",
        "# Defining heuristic values for each node\n",
        "heuristic = {\n",
        "    'x': 7,\n",
        "    'y': 4,\n",
        "    'z': 5,\n",
        "    'p': 3,\n",
        "    'q': 6,\n",
        "    'r': 2,\n",
        "    't': 0\n",
        "}\n",
        "# A Star Search Algorithm\n",
        "def astar_search(adj_list, heuristic, start_node, goal_node):\n",
        "    open_list = set([start_node])\n",
        "    closed_list = set([])\n",
        "    g = {}\n",
        "    g[start_node] = 0\n",
        "    parents = {}\n",
        "    parents[start_node] = start_node\n",
        "\n",
        "    def get_neighbors(node):\n",
        "        return adj_list[node]\n",
        "\n",
        "    def h(node):\n",
        "        return heuristic[node]\n",
        "\n",
        "    while len(open_list) > 0:\n",
        "        n = None\n",
        "        for v in open_list:\n",
        "            if n == None or g[v] + h(v) < g[n] + h(n):\n",
        "                n = v\n",
        "\n",
        "        if n == None:\n",
        "            print('Path does not exist!')\n",
        "            return None\n",
        "\n",
        "        if n == goal_node:\n",
        "            reconst_path = []\n",
        "            while parents[n] != n:\n",
        "                reconst_path.append(n)\n",
        "                n = parents[n]\n",
        "            reconst_path.append(start_node)\n",
        "            reconst_path.reverse()\n",
        "            print('Path found: {}'.format(reconst_path))\n",
        "            return reconst_path\n",
        "\n",
        "        for (m, weight) in get_neighbors(n):\n",
        "            if m not in open_list and m not in closed_list:\n",
        "                open_list.add(m)\n",
        "                parents[m] = n\n",
        "                g[m] = g[n] + weight\n",
        "            else:\n",
        "                if g[m] > g[n] + weight:\n",
        "                    g[m] = g[n] + weight\n",
        "                    parents[m] = n\n",
        "                if m in closed_list:\n",
        "                    closed_list.remove(m)\n",
        "                    open_list.add(m)\n",
        "\n",
        "        open_list.remove(n)\n",
        "        closed_list.add(n)\n",
        "\n",
        "    print('Path does not exist!')\n",
        "    return None\n",
        "\n",
        "print(\"----- A star search -----\")\n",
        "start_node = input(\"Enter the start node: \")\n",
        "goal_node = input(\"Enter the goal node: \")\n",
        "astar_search(adj_list, heuristic, start_node, goal_node)"
      ]
    },
    {
      "cell_type": "code",
      "source": [],
      "metadata": {
        "id": "nGoLCPJz1y6d"
      },
      "execution_count": null,
      "outputs": []
    }
  ]
}